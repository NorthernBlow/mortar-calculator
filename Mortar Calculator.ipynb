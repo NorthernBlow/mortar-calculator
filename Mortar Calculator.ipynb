{
 "cells": [
  {
   "cell_type": "code",
   "execution_count": 1,
   "metadata": {},
   "outputs": [
    {
     "name": "stdout",
     "output_type": "stream",
     "text": [
      "Using matplotlib backend: MacOSX\n"
     ]
    }
   ],
   "source": [
    "import pandas as pd\n",
    "import numpy as np\n",
    "import math\n",
    "import string\n",
    "import matplotlib.pyplot as plt\n",
    "\n",
    "%matplotlib"
   ]
  },
  {
   "cell_type": "code",
   "execution_count": 2,
   "metadata": {},
   "outputs": [
    {
     "name": "stdout",
     "output_type": "stream",
     "text": [
      "coordinates: a129\n",
      "--------------------\n",
      "6\n",
      "7\n"
     ]
    }
   ],
   "source": [
    "#Translate coordinates to X and Y values...\n",
    "\n",
    "coordinates = 'a129'\n",
    "\n",
    "# Get Horiz\n",
    "horiz = (list(coordinates)[0])\n",
    "# Get Vert\n",
    "vert = int(list(coordinates)[1])\n",
    "\n",
    "# Get SubGrid\n",
    "sub_input = int(list(coordinates)[2])\n",
    "# Get MiniGrid\n",
    "mini_input = int(list(coordinates)[3])\n",
    "\n",
    "# Build a keypad style SubGrid that the map can be translated from\n",
    "SubGrid = {\n",
    "    1: {\"x\": [1,2,3], \"y\": [7,8,9]},\n",
    "    2: {\"x\": [4,5,6], \"y\": [7,8,9]},\n",
    "    3: {\"x\": [7,8,9], \"y\": [7,8,9]},\n",
    "    4: {\"x\": [1,2,3], \"y\": [4,5,6]},\n",
    "    5: {\"x\": [4,5,6], \"y\": [4,5,6]},\n",
    "    6: {\"x\": [7,8,9], \"y\": [4,5,6]},\n",
    "    7: {\"x\": [1,2,3], \"y\": [1,2,3]},\n",
    "    8: {\"x\": [4,5,6], \"y\": [1,2,3]},\n",
    "    9: {\"x\": [7,8,9], \"y\": [1,2,3]}\n",
    "}\n",
    "sg = pd.DataFrame(SubGrid)\n",
    "sg = sg.transpose()\n",
    "\n",
    "# Compute Mini Grid\n",
    "build_x = sg['x'][sub_input]\n",
    "build_y = sg['y'][sub_input]\n",
    "\n",
    "MiniGrid = {\n",
    "    1: {\"x\": build_x[0], \"y\": build_y[2]},\n",
    "    2: {\"x\": build_x[1], \"y\": build_y[2]},\n",
    "    3: {\"x\": build_x[2], \"y\": build_y[2]},\n",
    "    4: {\"x\": build_x[0], \"y\": build_y[1]},\n",
    "    5: {\"x\": build_x[1], \"y\": build_y[1]},\n",
    "    6: {\"x\": build_x[2], \"y\": build_y[1]},\n",
    "    7: {\"x\": build_x[0], \"y\": build_y[0]},\n",
    "    8: {\"x\": build_x[1], \"y\": build_y[0]},\n",
    "    9: {\"x\": build_x[2], \"y\": build_y[0]}\n",
    "}\n",
    "mg = pd.DataFrame(MiniGrid)\n",
    "mg = mg.transpose()\n",
    "\n",
    "letters = list(string.ascii_lowercase)\n",
    "numbers = list(range(len(letters)+1))\n",
    "sectors = dict(zip(letters, numbers))\n",
    "\n",
    "scalex =  sectors[horiz] * 9\n",
    "scaley =  (vert - 1) * 9\n",
    "\n",
    "print \"coordinates: \" + coordinates\n",
    "print \"-\"*20\n",
    "\n",
    "# return X and Y\n",
    "print mg['x'][mini_input] + scalex\n",
    "print mg['y'][mini_input] + scaley"
   ]
  }
 ],
 "metadata": {
  "kernelspec": {
   "display_name": "Python 2",
   "language": "python",
   "name": "python2"
  },
  "language_info": {
   "codemirror_mode": {
    "name": "ipython",
    "version": 2
   },
   "file_extension": ".py",
   "mimetype": "text/x-python",
   "name": "python",
   "nbconvert_exporter": "python",
   "pygments_lexer": "ipython2",
   "version": "2.7.13"
  }
 },
 "nbformat": 4,
 "nbformat_minor": 2
}
