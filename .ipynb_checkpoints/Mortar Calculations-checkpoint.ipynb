{
 "cells": [
  {
   "cell_type": "code",
   "execution_count": 58,
   "metadata": {},
   "outputs": [
    {
     "name": "stdout",
     "output_type": "stream",
     "text": [
      "Using matplotlib backend: MacOSX\n"
     ]
    }
   ],
   "source": [
    "import pandas as pd\n",
    "import numpy as np\n",
    "import math\n",
    "import string\n",
    "import matplotlib.pyplot as plt\n",
    "\n",
    "%matplotlib"
   ]
  },
  {
   "cell_type": "code",
   "execution_count": 59,
   "metadata": {
    "collapsed": true
   },
   "outputs": [],
   "source": [
    "#http://wiki.rustyinplaces.org/images/thumb/2/23/Squad_map_layout.jpg/600px-Squad_map_layout.jpg\n",
    "#https://squad.gamepedia.com/Mortar\n",
    "#https://squad.gamepedia.com/Map_distances"
   ]
  },
  {
   "cell_type": "code",
   "execution_count": 60,
   "metadata": {
    "collapsed": true
   },
   "outputs": [],
   "source": [
    "maps = {'chora valley':117, 'fools road': 53, 'operation first light':43,\n",
    "        'gorodok':60, 'jensens range':40, 'kohat toi river valley':120,\n",
    "        'kokan':77, 'logar valley':53,\n",
    "        'sumari bala':40, 'yehorivka':127}"
   ]
  },
  {
   "cell_type": "code",
   "execution_count": 61,
   "metadata": {
    "collapsed": true,
    "scrolled": true
   },
   "outputs": [],
   "source": [
    "mapDistances = pd.DataFrame([maps], columns=maps.keys())"
   ]
  },
  {
   "cell_type": "code",
   "execution_count": 62,
   "metadata": {},
   "outputs": [
    {
     "data": {
      "text/html": [
       "<div>\n",
       "<style>\n",
       "    .dataframe thead tr:only-child th {\n",
       "        text-align: right;\n",
       "    }\n",
       "\n",
       "    .dataframe thead th {\n",
       "        text-align: left;\n",
       "    }\n",
       "\n",
       "    .dataframe tbody tr th {\n",
       "        vertical-align: top;\n",
       "    }\n",
       "</style>\n",
       "<table border=\"1\" class=\"dataframe\">\n",
       "  <thead>\n",
       "    <tr style=\"text-align: right;\">\n",
       "      <th></th>\n",
       "      <th>chora valley</th>\n",
       "      <th>jensens range</th>\n",
       "      <th>kohat toi river valley</th>\n",
       "      <th>yehorivka</th>\n",
       "      <th>operation first light</th>\n",
       "      <th>logar valley</th>\n",
       "      <th>sumari bala</th>\n",
       "      <th>gorodok</th>\n",
       "      <th>fools road</th>\n",
       "      <th>kokan</th>\n",
       "    </tr>\n",
       "  </thead>\n",
       "  <tbody>\n",
       "    <tr>\n",
       "      <th>0</th>\n",
       "      <td>117</td>\n",
       "      <td>40</td>\n",
       "      <td>120</td>\n",
       "      <td>127</td>\n",
       "      <td>43</td>\n",
       "      <td>53</td>\n",
       "      <td>40</td>\n",
       "      <td>60</td>\n",
       "      <td>53</td>\n",
       "      <td>77</td>\n",
       "    </tr>\n",
       "  </tbody>\n",
       "</table>\n",
       "</div>"
      ],
      "text/plain": [
       "   chora valley  jensens range  kohat toi river valley  yehorivka  \\\n",
       "0           117             40                     120        127   \n",
       "\n",
       "   operation first light  logar valley  sumari bala  gorodok  fools road  \\\n",
       "0                     43            53           40       60          53   \n",
       "\n",
       "   kokan  \n",
       "0     77  "
      ]
     },
     "execution_count": 62,
     "metadata": {},
     "output_type": "execute_result"
    }
   ],
   "source": [
    "mapDistances.head()"
   ]
  },
  {
   "cell_type": "markdown",
   "metadata": {},
   "source": [
    "# Sample User Inputs (mortar location and target location)"
   ]
  },
  {
   "cell_type": "code",
   "execution_count": 63,
   "metadata": {
    "collapsed": true
   },
   "outputs": [],
   "source": [
    "mortar = 'a129'\n",
    "enemy = 'b259'"
   ]
  },
  {
   "cell_type": "code",
   "execution_count": 64,
   "metadata": {},
   "outputs": [
    {
     "name": "stdout",
     "output_type": "stream",
     "text": [
      "['a', '1', '2', '9']\n",
      "['b', '2', '5', '9']\n"
     ]
    }
   ],
   "source": [
    "print list(mortar)\n",
    "print list(enemy)"
   ]
  },
  {
   "cell_type": "code",
   "execution_count": 65,
   "metadata": {
    "collapsed": true
   },
   "outputs": [],
   "source": [
    "# Get Horiz\n",
    "horiz = (list(mortar)[0])\n",
    "\n",
    "# Get Vert\n",
    "vert = int(list(mortar)[1])\n",
    "\n",
    "# Get SubGrid\n",
    "sub_input = int(list(mortar)[2])\n",
    "\n",
    "# Get MiniGrid\n",
    "mini_input = int(list(mortar)[3])"
   ]
  },
  {
   "cell_type": "code",
   "execution_count": 66,
   "metadata": {},
   "outputs": [
    {
     "name": "stdout",
     "output_type": "stream",
     "text": [
      "a\n",
      "1\n",
      "2\n",
      "9\n"
     ]
    }
   ],
   "source": [
    "print horiz\n",
    "print vert\n",
    "print sub_input\n",
    "print mini_input"
   ]
  },
  {
   "cell_type": "markdown",
   "metadata": {
    "collapsed": true
   },
   "source": [
    "## Building the SubGrid"
   ]
  },
  {
   "cell_type": "code",
   "execution_count": 67,
   "metadata": {
    "collapsed": true
   },
   "outputs": [],
   "source": [
    "# Build a keypad style grid that the map can be translated from\n",
    "\n",
    "SubGrid = {\n",
    "    1: {\"x\": [1,2,3], \"y\": [7,8,9]},\n",
    "    2: {\"x\": [4,5,6], \"y\": [7,8,9]},\n",
    "    3: {\"x\": [7,8,9], \"y\": [7,8,9]},\n",
    "    4: {\"x\": [1,2,3], \"y\": [4,5,6]},\n",
    "    5: {\"x\": [4,5,6], \"y\": [4,5,6]},\n",
    "    6: {\"x\": [7,8,9], \"y\": [4,5,6]},\n",
    "    7: {\"x\": [1,2,3], \"y\": [1,2,3]},\n",
    "    8: {\"x\": [4,5,6], \"y\": [1,2,3]},\n",
    "    9: {\"x\": [7,8,9], \"y\": [1,2,3]}\n",
    "}"
   ]
  },
  {
   "cell_type": "code",
   "execution_count": 68,
   "metadata": {
    "scrolled": true
   },
   "outputs": [
    {
     "data": {
      "text/html": [
       "<div>\n",
       "<style>\n",
       "    .dataframe thead tr:only-child th {\n",
       "        text-align: right;\n",
       "    }\n",
       "\n",
       "    .dataframe thead th {\n",
       "        text-align: left;\n",
       "    }\n",
       "\n",
       "    .dataframe tbody tr th {\n",
       "        vertical-align: top;\n",
       "    }\n",
       "</style>\n",
       "<table border=\"1\" class=\"dataframe\">\n",
       "  <thead>\n",
       "    <tr style=\"text-align: right;\">\n",
       "      <th></th>\n",
       "      <th>x</th>\n",
       "      <th>y</th>\n",
       "    </tr>\n",
       "  </thead>\n",
       "  <tbody>\n",
       "    <tr>\n",
       "      <th>1</th>\n",
       "      <td>[1, 2, 3]</td>\n",
       "      <td>[7, 8, 9]</td>\n",
       "    </tr>\n",
       "    <tr>\n",
       "      <th>2</th>\n",
       "      <td>[4, 5, 6]</td>\n",
       "      <td>[7, 8, 9]</td>\n",
       "    </tr>\n",
       "    <tr>\n",
       "      <th>3</th>\n",
       "      <td>[7, 8, 9]</td>\n",
       "      <td>[7, 8, 9]</td>\n",
       "    </tr>\n",
       "    <tr>\n",
       "      <th>4</th>\n",
       "      <td>[1, 2, 3]</td>\n",
       "      <td>[4, 5, 6]</td>\n",
       "    </tr>\n",
       "    <tr>\n",
       "      <th>5</th>\n",
       "      <td>[4, 5, 6]</td>\n",
       "      <td>[4, 5, 6]</td>\n",
       "    </tr>\n",
       "    <tr>\n",
       "      <th>6</th>\n",
       "      <td>[7, 8, 9]</td>\n",
       "      <td>[4, 5, 6]</td>\n",
       "    </tr>\n",
       "    <tr>\n",
       "      <th>7</th>\n",
       "      <td>[1, 2, 3]</td>\n",
       "      <td>[1, 2, 3]</td>\n",
       "    </tr>\n",
       "    <tr>\n",
       "      <th>8</th>\n",
       "      <td>[4, 5, 6]</td>\n",
       "      <td>[1, 2, 3]</td>\n",
       "    </tr>\n",
       "    <tr>\n",
       "      <th>9</th>\n",
       "      <td>[7, 8, 9]</td>\n",
       "      <td>[1, 2, 3]</td>\n",
       "    </tr>\n",
       "  </tbody>\n",
       "</table>\n",
       "</div>"
      ],
      "text/plain": [
       "           x          y\n",
       "1  [1, 2, 3]  [7, 8, 9]\n",
       "2  [4, 5, 6]  [7, 8, 9]\n",
       "3  [7, 8, 9]  [7, 8, 9]\n",
       "4  [1, 2, 3]  [4, 5, 6]\n",
       "5  [4, 5, 6]  [4, 5, 6]\n",
       "6  [7, 8, 9]  [4, 5, 6]\n",
       "7  [1, 2, 3]  [1, 2, 3]\n",
       "8  [4, 5, 6]  [1, 2, 3]\n",
       "9  [7, 8, 9]  [1, 2, 3]"
      ]
     },
     "execution_count": 68,
     "metadata": {},
     "output_type": "execute_result"
    }
   ],
   "source": [
    "sg = pd.DataFrame(SubGrid)\n",
    "sg = sg.transpose()\n",
    "sg.head(10)"
   ]
  },
  {
   "cell_type": "markdown",
   "metadata": {},
   "source": [
    "### Computing a MiniGrid from the given SubGrid"
   ]
  },
  {
   "cell_type": "code",
   "execution_count": 69,
   "metadata": {},
   "outputs": [
    {
     "name": "stdout",
     "output_type": "stream",
     "text": [
      "[4, 5, 6]\n",
      "[7, 8, 9]\n",
      "--------------------\n",
      "6\n",
      "9\n"
     ]
    }
   ],
   "source": [
    "build_x = sg['x'][sub_input]\n",
    "build_y = sg['y'][sub_input]\n",
    "\n",
    "print build_x\n",
    "print build_y\n",
    "print \"-\"*20\n",
    "print build_x[2]\n",
    "print build_y[2]"
   ]
  },
  {
   "cell_type": "code",
   "execution_count": 70,
   "metadata": {
    "collapsed": true
   },
   "outputs": [],
   "source": [
    "MiniGrid = {\n",
    "    1: {\"x\": build_x[0], \"y\": build_y[2]},\n",
    "    2: {\"x\": build_x[1], \"y\": build_y[2]},\n",
    "    3: {\"x\": build_x[2], \"y\": build_y[2]},\n",
    "    4: {\"x\": build_x[0], \"y\": build_y[1]},\n",
    "    5: {\"x\": build_x[1], \"y\": build_y[1]},\n",
    "    6: {\"x\": build_x[2], \"y\": build_y[1]},\n",
    "    7: {\"x\": build_x[0], \"y\": build_y[0]},\n",
    "    8: {\"x\": build_x[1], \"y\": build_y[0]},\n",
    "    9: {\"x\": build_x[2], \"y\": build_y[0]}\n",
    "}"
   ]
  },
  {
   "cell_type": "code",
   "execution_count": 71,
   "metadata": {
    "scrolled": true
   },
   "outputs": [
    {
     "data": {
      "text/html": [
       "<div>\n",
       "<style>\n",
       "    .dataframe thead tr:only-child th {\n",
       "        text-align: right;\n",
       "    }\n",
       "\n",
       "    .dataframe thead th {\n",
       "        text-align: left;\n",
       "    }\n",
       "\n",
       "    .dataframe tbody tr th {\n",
       "        vertical-align: top;\n",
       "    }\n",
       "</style>\n",
       "<table border=\"1\" class=\"dataframe\">\n",
       "  <thead>\n",
       "    <tr style=\"text-align: right;\">\n",
       "      <th></th>\n",
       "      <th>x</th>\n",
       "      <th>y</th>\n",
       "    </tr>\n",
       "  </thead>\n",
       "  <tbody>\n",
       "    <tr>\n",
       "      <th>1</th>\n",
       "      <td>4</td>\n",
       "      <td>9</td>\n",
       "    </tr>\n",
       "    <tr>\n",
       "      <th>2</th>\n",
       "      <td>5</td>\n",
       "      <td>9</td>\n",
       "    </tr>\n",
       "    <tr>\n",
       "      <th>3</th>\n",
       "      <td>6</td>\n",
       "      <td>9</td>\n",
       "    </tr>\n",
       "    <tr>\n",
       "      <th>4</th>\n",
       "      <td>4</td>\n",
       "      <td>8</td>\n",
       "    </tr>\n",
       "    <tr>\n",
       "      <th>5</th>\n",
       "      <td>5</td>\n",
       "      <td>8</td>\n",
       "    </tr>\n",
       "    <tr>\n",
       "      <th>6</th>\n",
       "      <td>6</td>\n",
       "      <td>8</td>\n",
       "    </tr>\n",
       "    <tr>\n",
       "      <th>7</th>\n",
       "      <td>4</td>\n",
       "      <td>7</td>\n",
       "    </tr>\n",
       "    <tr>\n",
       "      <th>8</th>\n",
       "      <td>5</td>\n",
       "      <td>7</td>\n",
       "    </tr>\n",
       "    <tr>\n",
       "      <th>9</th>\n",
       "      <td>6</td>\n",
       "      <td>7</td>\n",
       "    </tr>\n",
       "  </tbody>\n",
       "</table>\n",
       "</div>"
      ],
      "text/plain": [
       "   x  y\n",
       "1  4  9\n",
       "2  5  9\n",
       "3  6  9\n",
       "4  4  8\n",
       "5  5  8\n",
       "6  6  8\n",
       "7  4  7\n",
       "8  5  7\n",
       "9  6  7"
      ]
     },
     "execution_count": 71,
     "metadata": {},
     "output_type": "execute_result"
    }
   ],
   "source": [
    "# Now we have a given set of cordinate points for the keypad sector\n",
    "mg = pd.DataFrame(MiniGrid)\n",
    "mg = mg.transpose()\n",
    "mg.head(10)"
   ]
  },
  {
   "cell_type": "markdown",
   "metadata": {},
   "source": [
    "## Multiply the cordinate points by the sector callout (A1, B3 etc)"
   ]
  },
  {
   "cell_type": "code",
   "execution_count": 72,
   "metadata": {
    "collapsed": true
   },
   "outputs": [],
   "source": [
    "letters = list(string.ascii_lowercase)\n",
    "numbers = list(range(len(letters)+1))"
   ]
  },
  {
   "cell_type": "code",
   "execution_count": 73,
   "metadata": {
    "scrolled": true
   },
   "outputs": [
    {
     "name": "stdout",
     "output_type": "stream",
     "text": [
      "['a', 'b', 'c', 'd', 'e', 'f', 'g', 'h', 'i', 'j', 'k', 'l', 'm', 'n', 'o', 'p', 'q', 'r', 's', 't', 'u', 'v', 'w', 'x', 'y', 'z']\n",
      "[0, 1, 2, 3, 4, 5, 6, 7, 8, 9, 10, 11, 12, 13, 14, 15, 16, 17, 18, 19, 20, 21, 22, 23, 24, 25, 26]\n"
     ]
    }
   ],
   "source": [
    "print letters\n",
    "print numbers"
   ]
  },
  {
   "cell_type": "code",
   "execution_count": 74,
   "metadata": {
    "collapsed": true
   },
   "outputs": [],
   "source": [
    "sectors = dict(zip(letters, numbers))"
   ]
  },
  {
   "cell_type": "code",
   "execution_count": 75,
   "metadata": {},
   "outputs": [
    {
     "name": "stdout",
     "output_type": "stream",
     "text": [
      "0\n"
     ]
    }
   ],
   "source": [
    "print sectors['a']"
   ]
  },
  {
   "cell_type": "code",
   "execution_count": 76,
   "metadata": {},
   "outputs": [
    {
     "name": "stdout",
     "output_type": "stream",
     "text": [
      "Mortar Cordinates: a129\n",
      "--------------------\n",
      "6\n",
      "7\n"
     ]
    }
   ],
   "source": [
    "scalex =  sectors[horiz] * 9\n",
    "scaley =  (vert - 1) * 9\n",
    "\n",
    "print \"Mortar Cordinates: \" + mortar\n",
    "print \"-\"*20\n",
    "\n",
    "# Exact cordinates of the mortar\n",
    "print mg['x'][mini_input] + scalex\n",
    "print mg['y'][mini_input] + scaley"
   ]
  }
 ],
 "metadata": {
  "kernelspec": {
   "display_name": "Python 2",
   "language": "python",
   "name": "python2"
  },
  "language_info": {
   "codemirror_mode": {
    "name": "ipython",
    "version": 2
   },
   "file_extension": ".py",
   "mimetype": "text/x-python",
   "name": "python",
   "nbconvert_exporter": "python",
   "pygments_lexer": "ipython2",
   "version": "2.7.13"
  }
 },
 "nbformat": 4,
 "nbformat_minor": 2
}
