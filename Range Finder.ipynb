{
 "cells": [
  {
   "cell_type": "code",
   "execution_count": 1,
   "metadata": {
    "collapsed": true
   },
   "outputs": [],
   "source": [
    "from scipy.spatial import distance\n",
    "import pandas as pd"
   ]
  },
  {
   "cell_type": "code",
   "execution_count": 2,
   "metadata": {},
   "outputs": [
    {
     "data": {
      "text/html": [
       "<div>\n",
       "<style>\n",
       "    .dataframe thead tr:only-child th {\n",
       "        text-align: right;\n",
       "    }\n",
       "\n",
       "    .dataframe thead th {\n",
       "        text-align: left;\n",
       "    }\n",
       "\n",
       "    .dataframe tbody tr th {\n",
       "        vertical-align: top;\n",
       "    }\n",
       "</style>\n",
       "<table border=\"1\" class=\"dataframe\">\n",
       "  <thead>\n",
       "    <tr style=\"text-align: right;\">\n",
       "      <th></th>\n",
       "      <th>chora valley</th>\n",
       "      <th>jensens range</th>\n",
       "      <th>kohat toi river valley</th>\n",
       "      <th>yehorivka</th>\n",
       "      <th>operation first light</th>\n",
       "      <th>logar valley</th>\n",
       "      <th>sumari bala</th>\n",
       "      <th>gorodok</th>\n",
       "      <th>fools road</th>\n",
       "      <th>kokan</th>\n",
       "    </tr>\n",
       "  </thead>\n",
       "  <tbody>\n",
       "    <tr>\n",
       "      <th>0</th>\n",
       "      <td>117</td>\n",
       "      <td>40</td>\n",
       "      <td>120</td>\n",
       "      <td>127</td>\n",
       "      <td>43</td>\n",
       "      <td>53</td>\n",
       "      <td>40</td>\n",
       "      <td>60</td>\n",
       "      <td>53</td>\n",
       "      <td>77</td>\n",
       "    </tr>\n",
       "  </tbody>\n",
       "</table>\n",
       "</div>"
      ],
      "text/plain": [
       "   chora valley  jensens range  kohat toi river valley  yehorivka  \\\n",
       "0           117             40                     120        127   \n",
       "\n",
       "   operation first light  logar valley  sumari bala  gorodok  fools road  \\\n",
       "0                     43            53           40       60          53   \n",
       "\n",
       "   kokan  \n",
       "0     77  "
      ]
     },
     "execution_count": 2,
     "metadata": {},
     "output_type": "execute_result"
    }
   ],
   "source": [
    "maplist = {'chora valley':117, 'fools road': 53, 'operation first light':43,\n",
    "        'gorodok':60, 'jensens range':40, 'kohat toi river valley':120,\n",
    "        'kokan':77, 'logar valley':53,\n",
    "        'sumari bala':40, 'yehorivka':127}\n",
    "maps = pd.DataFrame([maplist], columns=maplist.keys())\n",
    "\n",
    "maps.head()"
   ]
  },
  {
   "cell_type": "code",
   "execution_count": 3,
   "metadata": {},
   "outputs": [
    {
     "name": "stdout",
     "output_type": "stream",
     "text": [
      "Distance\n",
      "9.48683298051\n",
      "Distance in meters\n",
      "369.98648624\n",
      "------------------------------\n",
      "Milliradian\n"
     ]
    }
   ],
   "source": [
    "#Find the distance between the two vectors\n",
    "a = (3,6)\n",
    "b = (12,9)\n",
    "dist = distance.euclidean(a,b)\n",
    "\n",
    "print \"Distance\"\n",
    "print dist\n",
    "print \"Distance in meters\"\n",
    "print dist * (int(maps['chora valley']) / 3)\n",
    "print \"-\"*30\n",
    "print \"Milliradian\"\n"
   ]
  }
 ],
 "metadata": {
  "kernelspec": {
   "display_name": "Python 2",
   "language": "python",
   "name": "python2"
  },
  "language_info": {
   "codemirror_mode": {
    "name": "ipython",
    "version": 2
   },
   "file_extension": ".py",
   "mimetype": "text/x-python",
   "name": "python",
   "nbconvert_exporter": "python",
   "pygments_lexer": "ipython2",
   "version": "2.7.13"
  }
 },
 "nbformat": 4,
 "nbformat_minor": 2
}
